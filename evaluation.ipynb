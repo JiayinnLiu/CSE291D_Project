{
 "cells": [
  {
   "cell_type": "code",
   "execution_count": 2,
   "metadata": {},
   "outputs": [],
   "source": [
    "import pandas as pd\n",
    "from sklearn.metrics import f1_score\n",
    "from sklearn.metrics import precision_score\n",
    "from sklearn.metrics import recall_score"
   ]
  },
  {
   "cell_type": "code",
   "execution_count": 3,
   "metadata": {},
   "outputs": [],
   "source": [
    "def get_scores(fp):\n",
    "    df1 = pd.read_csv(fp, index_col=0)\n",
    "    f1 = f1_score(df1['Peptide'], df1['Peptide_pred'])\n",
    "    precision = precision_score(df1['Peptide'], df1['Peptide_pred'])\n",
    "    recall = recall_score(df1['Peptide'], df1['Peptide_pred'])\n",
    "    return f1, precision, recall"
   ]
  },
  {
   "cell_type": "code",
   "execution_count": 4,
   "metadata": {},
   "outputs": [],
   "source": [
    "def print_scores(dir, f_names):\n",
    "    for f in f_names:\n",
    "        f1, precision, recall = get_scores(dir + f)\n",
    "        print('model: ', f[:-4])\n",
    "        print('f1 score: ', f1)\n",
    "        print('precision: ', precision)\n",
    "        print('recall: ', recall)\n",
    "        print()"
   ]
  },
  {
   "cell_type": "code",
   "execution_count": 51,
   "metadata": {},
   "outputs": [
    {
     "name": "stdout",
     "output_type": "stream",
     "text": [
      "Data set: variants_processed_knn\n",
      "f1 score:  0.9469397475589426\n",
      "precision:  0.9577777777777777\n",
      "recall:  0.9428571428571428\n",
      "\n",
      "Data set: variants_processed_mean\n",
      "f1 score:  0.9846153846153847\n",
      "precision:  1.0\n",
      "recall:  0.9714285714285715\n",
      "\n",
      "Data set: knn_PCA\n",
      "f1 score:  0.9372951231774762\n",
      "precision:  0.9349999999999999\n",
      "recall:  0.9492063492063492\n",
      "\n",
      "Data set: mean_PCA\n",
      "f1 score:  0.8952380952380953\n",
      "precision:  0.8688023088023089\n",
      "recall:  0.926984126984127\n",
      "\n",
      "Data set: selected_features_knn\n",
      "f1 score:  0.9777089783281735\n",
      "precision:  0.9777777777777779\n",
      "recall:  0.9800000000000001\n",
      "\n",
      "Data set: selected_features_mean\n",
      "f1 score:  0.9533333333333334\n",
      "precision:  0.975\n",
      "recall:  0.9428571428571428\n",
      "\n"
     ]
    }
   ],
   "source": [
    "!python3 logistic_regression_print_scores.py"
   ]
  },
  {
   "cell_type": "code",
   "execution_count": 47,
   "metadata": {},
   "outputs": [
    {
     "name": "stdout",
     "output_type": "stream",
     "text": [
      "Data set: variants_processed_knn\n",
      "f1 score:  0.8833918128654972\n",
      "precision:  0.89\n",
      "recall:  0.8942857142857144\n",
      "\n",
      "Data set: variants_processed_mean\n",
      "f1 score:  0.6557142857142858\n",
      "precision:  0.8928571428571429\n",
      "recall:  0.5346825396825396\n",
      "\n",
      "Data set: knn_PCA\n",
      "f1 score:  0.9159899749373434\n",
      "precision:  0.8918831168831168\n",
      "recall:  0.9514285714285714\n",
      "\n",
      "Data set: mean_PCA\n",
      "f1 score:  0.6078011204481792\n",
      "precision:  0.7511111111111111\n",
      "recall:  0.5995238095238096\n",
      "\n",
      "Data set: selected_features_knn\n",
      "f1 score:  0.9270990447461035\n",
      "precision:  0.96\n",
      "recall:  0.9114285714285714\n",
      "\n",
      "Data set: selected_features_mean\n",
      "f1 score:  0.890889894419306\n",
      "precision:  1.0\n",
      "recall:  0.8070634920634919\n",
      "\n"
     ]
    }
   ],
   "source": [
    "!python3 svm_print_scores.py"
   ]
  },
  {
   "cell_type": "code",
   "execution_count": 48,
   "metadata": {},
   "outputs": [
    {
     "name": "stdout",
     "output_type": "stream",
     "text": [
      "Data set: variants_processed_knn\n",
      "f1 score:  0.8846638655462185\n",
      "precision:  0.8691919191919192\n",
      "recall:  0.9077777777777778\n",
      "\n",
      "Data set: variants_processed_mean\n",
      "f1 score:  0.9361344537815126\n",
      "precision:  0.9269841269841269\n",
      "recall:  0.9464285714285715\n",
      "\n",
      "Data set: knn_PCA\n",
      "f1 score:  0.7433800186741364\n",
      "precision:  0.7420995670995671\n",
      "recall:  0.7812698412698412\n",
      "\n",
      "Data set: mean_PCA\n",
      "f1 score:  0.3987933634992458\n",
      "precision:  0.4488888888888889\n",
      "recall:  0.38944444444444437\n",
      "\n",
      "Data set: selected_features_knn\n",
      "f1 score:  0.8500731466675739\n",
      "precision:  0.8584126984126984\n",
      "recall:  0.8470634920634922\n",
      "\n",
      "Data set: selected_features_mean\n",
      "f1 score:  0.9207498383968972\n",
      "precision:  0.9269841269841269\n",
      "recall:  0.9178571428571429\n",
      "\n"
     ]
    }
   ],
   "source": [
    "!python3 decision_tree_print_scores.py"
   ]
  },
  {
   "cell_type": "code",
   "execution_count": 49,
   "metadata": {},
   "outputs": [
    {
     "name": "stdout",
     "output_type": "stream",
     "text": [
      "Data set: variants_processed_knn\n",
      "f1 score:  0.8870715249662618\n",
      "precision:  0.880050505050505\n",
      "recall:  0.9064285714285714\n",
      "\n",
      "Data set: variants_processed_mean\n",
      "f1 score:  0.8276927613150523\n",
      "precision:  0.8456349206349205\n",
      "recall:  0.8147619047619047\n",
      "\n",
      "Data set: knn_PCA\n",
      "f1 score:  0.7930392156862746\n",
      "precision:  0.885\n",
      "recall:  0.7448412698412697\n",
      "\n",
      "Data set: mean_PCA\n",
      "f1 score:  0.6306959706959707\n",
      "precision:  0.7309523809523808\n",
      "recall:  0.5746031746031746\n",
      "\n",
      "Data set: selected_features_knn\n",
      "f1 score:  0.9291767881241565\n",
      "precision:  0.9204545454545455\n",
      "recall:  0.9514285714285714\n",
      "\n",
      "Data set: selected_features_mean\n",
      "f1 score:  0.9616666666666667\n",
      "precision:  0.95\n",
      "recall:  0.975\n",
      "\n"
     ]
    }
   ],
   "source": [
    "!python3 random_forest.py"
   ]
  },
  {
   "cell_type": "code",
   "execution_count": null,
   "metadata": {},
   "outputs": [],
   "source": []
  }
 ],
 "metadata": {
  "kernelspec": {
   "display_name": "Python 3",
   "language": "python",
   "name": "python3"
  },
  "language_info": {
   "codemirror_mode": {
    "name": "ipython",
    "version": 3
   },
   "file_extension": ".py",
   "mimetype": "text/x-python",
   "name": "python",
   "nbconvert_exporter": "python",
   "pygments_lexer": "ipython3",
   "version": "3.10.11"
  },
  "vscode": {
   "interpreter": {
    "hash": "aee8b7b246df8f9039afb4144a1f6fd8d2ca17a180786b69acc140d282b71a49"
   }
  }
 },
 "nbformat": 4,
 "nbformat_minor": 4
}
